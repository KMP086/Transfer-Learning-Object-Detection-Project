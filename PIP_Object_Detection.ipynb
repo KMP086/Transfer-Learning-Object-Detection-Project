{
 "cells": [
  {
   "cell_type": "markdown",
   "metadata": {},
   "source": [
    "#https://www.tensorflow.org/install/pip \n",
    "note: pip can be install one code box at a time \n",
    "pip install tensorflow[and-cuda] # gpu usage\n",
    "pip install tensorflow #cpu usage"
   ]
  },
  {
   "cell_type": "code",
   "execution_count": 3,
   "metadata": {},
   "outputs": [
    {
     "name": "stdout",
     "output_type": "stream",
     "text": [
      "Requirement already satisfied: pip in e:\\programming\\python\\lib\\site-packages (23.3.1)\n",
      "Note: you may need to restart the kernel to use updated packages.\n"
     ]
    }
   ],
   "source": [
    "pip install --upgrade pip"
   ]
  },
  {
   "cell_type": "markdown",
   "metadata": {},
   "source": [
    "#NVDIA GPU#############################################################\n",
    "I don't have nvidia gpu :p"
   ]
  },
  {
   "cell_type": "code",
   "execution_count": 4,
   "metadata": {},
   "outputs": [],
   "source": [
    "#pip install tensorflow[and-cuda]"
   ]
  },
  {
   "cell_type": "markdown",
   "metadata": {},
   "source": [
    "https://www.tensorflow.org/install/source_windows\n",
    "latest tensorflow-gpu update"
   ]
  },
  {
   "cell_type": "code",
   "execution_count": 5,
   "metadata": {},
   "outputs": [],
   "source": [
    "#pip install tensorflow-gpu==2.10.0"
   ]
  },
  {
   "cell_type": "code",
   "execution_count": 1,
   "metadata": {},
   "outputs": [
    {
     "data": {
      "text/plain": [
       "[]"
      ]
     },
     "execution_count": 1,
     "metadata": {},
     "output_type": "execute_result"
    }
   ],
   "source": [
    "import tensorflow as tf\n",
    "#tf.test.is_gpu_available()\n",
    "#tf.config.list_physical_devices('GPU')"
   ]
  },
  {
   "cell_type": "markdown",
   "metadata": {},
   "source": [
    "#NVDIA END GPU########################################################"
   ]
  },
  {
   "cell_type": "markdown",
   "metadata": {},
   "source": [
    "#AMD RADEON GPU######################################################################### \n",
    "https://rocm.docs.amd.com/en/latest/how_to/tensorflow_install/tensorflow_install.html"
   ]
  },
  {
   "cell_type": "code",
   "execution_count": null,
   "metadata": {},
   "outputs": [],
   "source": []
  },
  {
   "cell_type": "markdown",
   "metadata": {},
   "source": [
    "########################################################################################"
   ]
  },
  {
   "cell_type": "code",
   "execution_count": 6,
   "metadata": {},
   "outputs": [
    {
     "name": "stdout",
     "output_type": "stream",
     "text": [
      "Requirement already satisfied: tensorflow==2.14.0 in e:\\programming\\python\\lib\\site-packages (2.14.0)\n",
      "Requirement already satisfied: tensorflow-intel==2.14.0 in e:\\programming\\python\\lib\\site-packages (from tensorflow==2.14.0) (2.14.0)\n",
      "Requirement already satisfied: absl-py>=1.0.0 in e:\\programming\\python\\lib\\site-packages (from tensorflow-intel==2.14.0->tensorflow==2.14.0) (2.0.0)\n",
      "Requirement already satisfied: astunparse>=1.6.0 in e:\\programming\\python\\lib\\site-packages (from tensorflow-intel==2.14.0->tensorflow==2.14.0) (1.6.3)\n",
      "Requirement already satisfied: flatbuffers>=23.5.26 in e:\\programming\\python\\lib\\site-packages (from tensorflow-intel==2.14.0->tensorflow==2.14.0) (23.5.26)\n",
      "Requirement already satisfied: gast!=0.5.0,!=0.5.1,!=0.5.2,>=0.2.1 in e:\\programming\\python\\lib\\site-packages (from tensorflow-intel==2.14.0->tensorflow==2.14.0) (0.4.0)\n",
      "Requirement already satisfied: google-pasta>=0.1.1 in e:\\programming\\python\\lib\\site-packages (from tensorflow-intel==2.14.0->tensorflow==2.14.0) (0.2.0)\n",
      "Requirement already satisfied: h5py>=2.9.0 in e:\\programming\\python\\lib\\site-packages (from tensorflow-intel==2.14.0->tensorflow==2.14.0) (3.10.0)\n",
      "Requirement already satisfied: libclang>=13.0.0 in e:\\programming\\python\\lib\\site-packages (from tensorflow-intel==2.14.0->tensorflow==2.14.0) (16.0.6)\n",
      "Requirement already satisfied: ml-dtypes==0.2.0 in e:\\programming\\python\\lib\\site-packages (from tensorflow-intel==2.14.0->tensorflow==2.14.0) (0.2.0)\n",
      "Requirement already satisfied: numpy>=1.23.5 in e:\\programming\\python\\lib\\site-packages (from tensorflow-intel==2.14.0->tensorflow==2.14.0) (1.24.3)\n",
      "Requirement already satisfied: opt-einsum>=2.3.2 in e:\\programming\\python\\lib\\site-packages (from tensorflow-intel==2.14.0->tensorflow==2.14.0) (3.3.0)\n",
      "Requirement already satisfied: packaging in c:\\users\\user086\\appdata\\roaming\\python\\python311\\site-packages (from tensorflow-intel==2.14.0->tensorflow==2.14.0) (23.2)\n",
      "Requirement already satisfied: protobuf!=4.21.0,!=4.21.1,!=4.21.2,!=4.21.3,!=4.21.4,!=4.21.5,<5.0.0dev,>=3.20.3 in e:\\programming\\python\\lib\\site-packages (from tensorflow-intel==2.14.0->tensorflow==2.14.0) (4.24.4)\n",
      "Requirement already satisfied: setuptools in e:\\programming\\python\\lib\\site-packages (from tensorflow-intel==2.14.0->tensorflow==2.14.0) (65.5.0)\n",
      "Requirement already satisfied: six>=1.12.0 in c:\\users\\user086\\appdata\\roaming\\python\\python311\\site-packages (from tensorflow-intel==2.14.0->tensorflow==2.14.0) (1.16.0)\n",
      "Requirement already satisfied: termcolor>=1.1.0 in e:\\programming\\python\\lib\\site-packages (from tensorflow-intel==2.14.0->tensorflow==2.14.0) (2.3.0)\n",
      "Requirement already satisfied: typing-extensions>=3.6.6 in e:\\programming\\python\\lib\\site-packages (from tensorflow-intel==2.14.0->tensorflow==2.14.0) (4.5.0)\n",
      "Requirement already satisfied: wrapt<1.15,>=1.11.0 in e:\\programming\\python\\lib\\site-packages (from tensorflow-intel==2.14.0->tensorflow==2.14.0) (1.14.1)\n",
      "Requirement already satisfied: tensorflow-io-gcs-filesystem>=0.23.1 in e:\\programming\\python\\lib\\site-packages (from tensorflow-intel==2.14.0->tensorflow==2.14.0) (0.31.0)\n",
      "Requirement already satisfied: grpcio<2.0,>=1.24.3 in e:\\programming\\python\\lib\\site-packages (from tensorflow-intel==2.14.0->tensorflow==2.14.0) (1.59.0)\n",
      "Requirement already satisfied: tensorboard<2.15,>=2.14 in e:\\programming\\python\\lib\\site-packages (from tensorflow-intel==2.14.0->tensorflow==2.14.0) (2.14.1)\n",
      "Requirement already satisfied: tensorflow-estimator<2.15,>=2.14.0 in e:\\programming\\python\\lib\\site-packages (from tensorflow-intel==2.14.0->tensorflow==2.14.0) (2.14.0)\n",
      "Requirement already satisfied: keras<2.15,>=2.14.0 in e:\\programming\\python\\lib\\site-packages (from tensorflow-intel==2.14.0->tensorflow==2.14.0) (2.14.0)\n",
      "Requirement already satisfied: wheel<1.0,>=0.23.0 in e:\\programming\\python\\lib\\site-packages (from astunparse>=1.6.0->tensorflow-intel==2.14.0->tensorflow==2.14.0) (0.41.2)\n",
      "Requirement already satisfied: google-auth<3,>=1.6.3 in e:\\programming\\python\\lib\\site-packages (from tensorboard<2.15,>=2.14->tensorflow-intel==2.14.0->tensorflow==2.14.0) (2.23.3)\n",
      "Requirement already satisfied: google-auth-oauthlib<1.1,>=0.5 in e:\\programming\\python\\lib\\site-packages (from tensorboard<2.15,>=2.14->tensorflow-intel==2.14.0->tensorflow==2.14.0) (1.0.0)\n",
      "Requirement already satisfied: markdown>=2.6.8 in e:\\programming\\python\\lib\\site-packages (from tensorboard<2.15,>=2.14->tensorflow-intel==2.14.0->tensorflow==2.14.0) (3.5)\n",
      "Requirement already satisfied: requests<3,>=2.21.0 in e:\\programming\\python\\lib\\site-packages (from tensorboard<2.15,>=2.14->tensorflow-intel==2.14.0->tensorflow==2.14.0) (2.31.0)\n",
      "Requirement already satisfied: tensorboard-data-server<0.8.0,>=0.7.0 in e:\\programming\\python\\lib\\site-packages (from tensorboard<2.15,>=2.14->tensorflow-intel==2.14.0->tensorflow==2.14.0) (0.7.1)\n",
      "Requirement already satisfied: werkzeug>=1.0.1 in e:\\programming\\python\\lib\\site-packages (from tensorboard<2.15,>=2.14->tensorflow-intel==2.14.0->tensorflow==2.14.0) (3.0.0)\n",
      "Requirement already satisfied: cachetools<6.0,>=2.0.0 in e:\\programming\\python\\lib\\site-packages (from google-auth<3,>=1.6.3->tensorboard<2.15,>=2.14->tensorflow-intel==2.14.0->tensorflow==2.14.0) (5.3.1)\n",
      "Requirement already satisfied: pyasn1-modules>=0.2.1 in e:\\programming\\python\\lib\\site-packages (from google-auth<3,>=1.6.3->tensorboard<2.15,>=2.14->tensorflow-intel==2.14.0->tensorflow==2.14.0) (0.3.0)\n",
      "Requirement already satisfied: rsa<5,>=3.1.4 in e:\\programming\\python\\lib\\site-packages (from google-auth<3,>=1.6.3->tensorboard<2.15,>=2.14->tensorflow-intel==2.14.0->tensorflow==2.14.0) (4.9)\n",
      "Requirement already satisfied: requests-oauthlib>=0.7.0 in e:\\programming\\python\\lib\\site-packages (from google-auth-oauthlib<1.1,>=0.5->tensorboard<2.15,>=2.14->tensorflow-intel==2.14.0->tensorflow==2.14.0) (1.3.1)\n",
      "Requirement already satisfied: charset-normalizer<4,>=2 in e:\\programming\\python\\lib\\site-packages (from requests<3,>=2.21.0->tensorboard<2.15,>=2.14->tensorflow-intel==2.14.0->tensorflow==2.14.0) (3.3.0)\n",
      "Requirement already satisfied: idna<4,>=2.5 in e:\\programming\\python\\lib\\site-packages (from requests<3,>=2.21.0->tensorboard<2.15,>=2.14->tensorflow-intel==2.14.0->tensorflow==2.14.0) (3.4)\n",
      "Requirement already satisfied: urllib3<3,>=1.21.1 in e:\\programming\\python\\lib\\site-packages (from requests<3,>=2.21.0->tensorboard<2.15,>=2.14->tensorflow-intel==2.14.0->tensorflow==2.14.0) (2.0.6)\n",
      "Requirement already satisfied: certifi>=2017.4.17 in e:\\programming\\python\\lib\\site-packages (from requests<3,>=2.21.0->tensorboard<2.15,>=2.14->tensorflow-intel==2.14.0->tensorflow==2.14.0) (2023.7.22)\n",
      "Requirement already satisfied: MarkupSafe>=2.1.1 in e:\\programming\\python\\lib\\site-packages (from werkzeug>=1.0.1->tensorboard<2.15,>=2.14->tensorflow-intel==2.14.0->tensorflow==2.14.0) (2.1.3)\n",
      "Requirement already satisfied: pyasn1<0.6.0,>=0.4.6 in e:\\programming\\python\\lib\\site-packages (from pyasn1-modules>=0.2.1->google-auth<3,>=1.6.3->tensorboard<2.15,>=2.14->tensorflow-intel==2.14.0->tensorflow==2.14.0) (0.5.0)\n",
      "Requirement already satisfied: oauthlib>=3.0.0 in e:\\programming\\python\\lib\\site-packages (from requests-oauthlib>=0.7.0->google-auth-oauthlib<1.1,>=0.5->tensorboard<2.15,>=2.14->tensorflow-intel==2.14.0->tensorflow==2.14.0) (3.2.2)\n",
      "Note: you may need to restart the kernel to use updated packages.\n"
     ]
    }
   ],
   "source": [
    "pip install tensorflow==2.14.0 "
   ]
  },
  {
   "cell_type": "code",
   "execution_count": 7,
   "metadata": {},
   "outputs": [
    {
     "name": "stdout",
     "output_type": "stream",
     "text": [
      "Requirement already satisfied: opencv-python in e:\\programming\\python\\lib\\site-packages (4.8.1.78)Note: you may need to restart the kernel to use updated packages.\n",
      "\n",
      "Requirement already satisfied: numpy>=1.21.2 in e:\\programming\\python\\lib\\site-packages (from opencv-python) (1.24.3)\n"
     ]
    }
   ],
   "source": [
    "pip install opencv-python"
   ]
  },
  {
   "cell_type": "code",
   "execution_count": 8,
   "metadata": {},
   "outputs": [
    {
     "name": "stdout",
     "output_type": "stream",
     "text": [
      "Collecting import-ipynbNote: you may need to restart the kernel to use updated packages.\n",
      "\n",
      "  Downloading import_ipynb-0.1.4-py3-none-any.whl (4.1 kB)\n",
      "Requirement already satisfied: IPython in c:\\users\\user086\\appdata\\roaming\\python\\python311\\site-packages (from import-ipynb) (8.16.1)\n",
      "Collecting nbformat (from import-ipynb)\n",
      "  Downloading nbformat-5.9.2-py3-none-any.whl.metadata (3.4 kB)\n",
      "Requirement already satisfied: backcall in c:\\users\\user086\\appdata\\roaming\\python\\python311\\site-packages (from IPython->import-ipynb) (0.2.0)\n",
      "Requirement already satisfied: decorator in c:\\users\\user086\\appdata\\roaming\\python\\python311\\site-packages (from IPython->import-ipynb) (5.1.1)\n",
      "Requirement already satisfied: jedi>=0.16 in c:\\users\\user086\\appdata\\roaming\\python\\python311\\site-packages (from IPython->import-ipynb) (0.19.1)\n",
      "Requirement already satisfied: matplotlib-inline in c:\\users\\user086\\appdata\\roaming\\python\\python311\\site-packages (from IPython->import-ipynb) (0.1.6)\n",
      "Requirement already satisfied: pickleshare in c:\\users\\user086\\appdata\\roaming\\python\\python311\\site-packages (from IPython->import-ipynb) (0.7.5)\n",
      "Requirement already satisfied: prompt-toolkit!=3.0.37,<3.1.0,>=3.0.30 in c:\\users\\user086\\appdata\\roaming\\python\\python311\\site-packages (from IPython->import-ipynb) (3.0.39)\n",
      "Requirement already satisfied: pygments>=2.4.0 in c:\\users\\user086\\appdata\\roaming\\python\\python311\\site-packages (from IPython->import-ipynb) (2.16.1)\n",
      "Requirement already satisfied: stack-data in c:\\users\\user086\\appdata\\roaming\\python\\python311\\site-packages (from IPython->import-ipynb) (0.6.3)\n",
      "Requirement already satisfied: traitlets>=5 in c:\\users\\user086\\appdata\\roaming\\python\\python311\\site-packages (from IPython->import-ipynb) (5.11.2)\n",
      "Requirement already satisfied: colorama in c:\\users\\user086\\appdata\\roaming\\python\\python311\\site-packages (from IPython->import-ipynb) (0.4.6)\n",
      "Requirement already satisfied: fastjsonschema in c:\\users\\user086\\appdata\\roaming\\python\\python311\\site-packages (from nbformat->import-ipynb) (2.18.1)\n",
      "Collecting jsonschema>=2.6 (from nbformat->import-ipynb)\n",
      "  Downloading jsonschema-4.19.1-py3-none-any.whl.metadata (7.9 kB)\n",
      "Requirement already satisfied: jupyter-core in c:\\users\\user086\\appdata\\roaming\\python\\python311\\site-packages (from nbformat->import-ipynb) (5.4.0)\n",
      "Requirement already satisfied: parso<0.9.0,>=0.8.3 in c:\\users\\user086\\appdata\\roaming\\python\\python311\\site-packages (from jedi>=0.16->IPython->import-ipynb) (0.8.3)\n",
      "Collecting attrs>=22.2.0 (from jsonschema>=2.6->nbformat->import-ipynb)\n",
      "  Downloading attrs-23.1.0-py3-none-any.whl (61 kB)\n",
      "     ---------------------------------------- 0.0/61.2 kB ? eta -:--:--\n",
      "     ---------------------------------------- 61.2/61.2 kB 3.2 MB/s eta 0:00:00\n",
      "Collecting jsonschema-specifications>=2023.03.6 (from jsonschema>=2.6->nbformat->import-ipynb)\n",
      "  Downloading jsonschema_specifications-2023.7.1-py3-none-any.whl.metadata (2.8 kB)\n",
      "Collecting referencing>=0.28.4 (from jsonschema>=2.6->nbformat->import-ipynb)\n",
      "  Downloading referencing-0.30.2-py3-none-any.whl.metadata (2.6 kB)\n",
      "Requirement already satisfied: rpds-py>=0.7.1 in c:\\users\\user086\\appdata\\roaming\\python\\python311\\site-packages (from jsonschema>=2.6->nbformat->import-ipynb) (0.10.6)\n",
      "Requirement already satisfied: wcwidth in c:\\users\\user086\\appdata\\roaming\\python\\python311\\site-packages (from prompt-toolkit!=3.0.37,<3.1.0,>=3.0.30->IPython->import-ipynb) (0.2.8)\n",
      "Requirement already satisfied: platformdirs>=2.5 in c:\\users\\user086\\appdata\\roaming\\python\\python311\\site-packages (from jupyter-core->nbformat->import-ipynb) (3.11.0)\n",
      "Requirement already satisfied: pywin32>=300 in c:\\users\\user086\\appdata\\roaming\\python\\python311\\site-packages (from jupyter-core->nbformat->import-ipynb) (306)\n",
      "Requirement already satisfied: executing>=1.2.0 in c:\\users\\user086\\appdata\\roaming\\python\\python311\\site-packages (from stack-data->IPython->import-ipynb) (2.0.0)\n",
      "Requirement already satisfied: asttokens>=2.1.0 in c:\\users\\user086\\appdata\\roaming\\python\\python311\\site-packages (from stack-data->IPython->import-ipynb) (2.4.0)\n",
      "Requirement already satisfied: pure-eval in c:\\users\\user086\\appdata\\roaming\\python\\python311\\site-packages (from stack-data->IPython->import-ipynb) (0.2.2)\n",
      "Requirement already satisfied: six>=1.12.0 in c:\\users\\user086\\appdata\\roaming\\python\\python311\\site-packages (from asttokens>=2.1.0->stack-data->IPython->import-ipynb) (1.16.0)\n",
      "Downloading nbformat-5.9.2-py3-none-any.whl (77 kB)\n",
      "   ---------------------------------------- 0.0/77.6 kB ? eta -:--:--\n",
      "   ---------------------------------------- 77.6/77.6 kB ? eta 0:00:00\n",
      "Downloading jsonschema-4.19.1-py3-none-any.whl (83 kB)\n",
      "   ---------------------------------------- 0.0/83.3 kB ? eta -:--:--\n",
      "   ---------------------------------------- 83.3/83.3 kB ? eta 0:00:00\n",
      "Downloading jsonschema_specifications-2023.7.1-py3-none-any.whl (17 kB)\n",
      "Downloading referencing-0.30.2-py3-none-any.whl (25 kB)\n",
      "Installing collected packages: attrs, referencing, jsonschema-specifications, jsonschema, nbformat, import-ipynb\n",
      "Successfully installed attrs-23.1.0 import-ipynb-0.1.4 jsonschema-4.19.1 jsonschema-specifications-2023.7.1 nbformat-5.9.2 referencing-0.30.2\n"
     ]
    },
    {
     "name": "stderr",
     "output_type": "stream",
     "text": [
      "  WARNING: The script jsonschema.exe is installed in 'e:\\Programming\\Python\\Scripts' which is not on PATH.\n",
      "  Consider adding this directory to PATH or, if you prefer to suppress this warning, use --no-warn-script-location.\n",
      "  WARNING: The script jupyter-trust.exe is installed in 'e:\\Programming\\Python\\Scripts' which is not on PATH.\n",
      "  Consider adding this directory to PATH or, if you prefer to suppress this warning, use --no-warn-script-location.\n"
     ]
    }
   ],
   "source": [
    "pip install import-ipynb"
   ]
  },
  {
   "cell_type": "markdown",
   "metadata": {},
   "source": []
  }
 ],
 "metadata": {
  "kernelspec": {
   "display_name": "Python 3",
   "language": "python",
   "name": "python3"
  },
  "language_info": {
   "codemirror_mode": {
    "name": "ipython",
    "version": 3
   },
   "file_extension": ".py",
   "mimetype": "text/x-python",
   "name": "python",
   "nbconvert_exporter": "python",
   "pygments_lexer": "ipython3",
   "version": "3.11.5"
  }
 },
 "nbformat": 4,
 "nbformat_minor": 2
}
